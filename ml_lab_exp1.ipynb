{
 "cells": [
  {
   "cell_type": "code",
   "execution_count": 1,
   "metadata": {},
   "outputs": [],
   "source": [
    "import random\n",
    "import csv"
   ]
  },
  {
   "cell_type": "code",
   "execution_count": 2,
   "metadata": {},
   "outputs": [
    {
     "name": "stdout",
     "output_type": "stream",
     "text": [
      "\n",
      " the most general hypothesis is :['?','?','?','?','?','?']\n",
      "\n",
      " the most specific hypothesis is :['0','0','0','0','0','0']\n"
     ]
    }
   ],
   "source": [
    "attributes =[['sunny','rainy'],\n",
    "            ['warm','cold'],\n",
    "            ['normal','high'],\n",
    "            ['strong','weak'],\n",
    "            ['warm','cool'],\n",
    "            ['same','change']]\n",
    "num_attributes=len(attributes)\n",
    "print(\"\\n the most general hypothesis is :['?','?','?','?','?','?']\")\n",
    "print(\"\\n the most specific hypothesis is :['0','0','0','0','0','0']\")"
   ]
  },
  {
   "cell_type": "code",
   "execution_count": 9,
   "metadata": {},
   "outputs": [
    {
     "name": "stdout",
     "output_type": "stream",
     "text": [
      "\n",
      " the given training data set :\n",
      "\n",
      "['sunny', 'warm', 'normal', 'strong', 'warm', 'same', 'yes']\n",
      "['sunny', 'warm', 'high', 'strong', 'warm', 'same', 'yes']\n",
      "['rainy', 'cold', 'high', 'strong', 'warm', 'change', 'no']\n",
      "['sunny', 'warm', 'high', 'strong', 'cool', 'change', 'yes']\n"
     ]
    }
   ],
   "source": [
    "a =[]\n",
    "print(\"\\n the given training data set :\\n\")\n",
    "with open(\"file.csv\",\"r\") as csvfile:\n",
    "    reader =csv.reader(csvfile)\n",
    "    for row in reader:\n",
    "        a.append(row)\n",
    "        print(row)"
   ]
  },
  {
   "cell_type": "code",
   "execution_count": 16,
   "metadata": {},
   "outputs": [
    {
     "name": "stdout",
     "output_type": "stream",
     "text": [
      "the initail value of hypothesis :\n",
      "['0', '0', '0', '0', '0', '0']\n"
     ]
    }
   ],
   "source": [
    "print(\"the initail value of hypothesis :\")\n",
    "hypothesis =['0']* num_attributes\n",
    "print(hypothesis)\n",
    "for j in range(0,num_attributes):\n",
    "    hypothesis[j]=a[0][j]"
   ]
  },
  {
   "cell_type": "code",
   "execution_count": 17,
   "metadata": {},
   "outputs": [
    {
     "name": "stdout",
     "output_type": "stream",
     "text": [
      "find s: finding a maximally specific hypothesis \n",
      "\n",
      "('for training example no :0 the hypothesis is ', ['sunny', 'warm', 'normal', 'strong', 'warm', 'same'])\n",
      "('for training example no :1 the hypothesis is ', ['sunny', 'warm', '?', 'strong', 'warm', 'same'])\n",
      "('for training example no :2 the hypothesis is ', ['sunny', 'warm', '?', 'strong', 'warm', 'same'])\n",
      "('for training example no :3 the hypothesis is ', ['sunny', 'warm', '?', 'strong', '?', '?'])\n",
      "('the maximally specific hypothesis for a given training examples :', ['sunny', 'warm', '?', 'strong', '?', '?'])\n"
     ]
    }
   ],
   "source": [
    "print(\"find s: finding a maximally specific hypothesis \\n\")\n",
    "for i in range(0,len(a)):\n",
    "    if a[i][num_attributes]=='yes':\n",
    "        for j in range(0,num_attributes):\n",
    "            if a[i][j]!=hypothesis[j]:\n",
    "                hypothesis[j]='?'\n",
    "            else:\n",
    "                hypothesis[j]=a[i][j]\n",
    "    print(\"for training example no :{0} the hypothesis is \".format(i),hypothesis)\n",
    "print(\"the maximally specific hypothesis for a given training examples :\",hypothesis)"
   ]
  },
  {
   "cell_type": "code",
   "execution_count": null,
   "metadata": {},
   "outputs": [],
   "source": []
  }
 ],
 "metadata": {
  "kernelspec": {
   "display_name": "Python 2",
   "language": "python",
   "name": "python2"
  },
  "language_info": {
   "codemirror_mode": {
    "name": "ipython",
    "version": 2
   },
   "file_extension": ".py",
   "mimetype": "text/x-python",
   "name": "python",
   "nbconvert_exporter": "python",
   "pygments_lexer": "ipython2",
   "version": "2.7.16"
  }
 },
 "nbformat": 4,
 "nbformat_minor": 2
}
